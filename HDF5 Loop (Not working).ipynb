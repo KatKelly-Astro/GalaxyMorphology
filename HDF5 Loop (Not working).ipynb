{
 "cells": [
  {
   "cell_type": "code",
   "execution_count": 13,
   "id": "floppy-variation",
   "metadata": {},
   "outputs": [
    {
     "ename": "FileNotFoundError",
     "evalue": "[WinError 3] The system cannot find the path specified: 'C:\\\\Users\\\\katha\\\\GalaxyMorphologyOrganic'",
     "output_type": "error",
     "traceback": [
      "\u001b[1;31m---------------------------------------------------------------------------\u001b[0m",
      "\u001b[1;31mFileNotFoundError\u001b[0m                         Traceback (most recent call last)",
      "\u001b[1;32m<ipython-input-13-f4aa38f3ded8>\u001b[0m in \u001b[0;36m<module>\u001b[1;34m()\u001b[0m\n\u001b[0;32m      9\u001b[0m \u001b[1;32mfor\u001b[0m \u001b[0mdataset\u001b[0m \u001b[1;32min\u001b[0m \u001b[0mdatasets\u001b[0m\u001b[1;33m:\u001b[0m\u001b[1;33m\u001b[0m\u001b[0m\n\u001b[0;32m     10\u001b[0m \u001b[1;33m\u001b[0m\u001b[0m\n\u001b[1;32m---> 11\u001b[1;33m     \u001b[0mfiles\u001b[0m \u001b[1;33m=\u001b[0m \u001b[0mlistdir\u001b[0m\u001b[1;33m(\u001b[0m\u001b[1;34m'C:\\\\Users\\\\katha\\\\GalaxyMorphology'\u001b[0m \u001b[1;33m+\u001b[0m \u001b[0mdataset\u001b[0m\u001b[1;33m)\u001b[0m\u001b[1;33m\u001b[0m\u001b[0m\n\u001b[0m\u001b[0;32m     12\u001b[0m \u001b[1;33m\u001b[0m\u001b[0m\n\u001b[0;32m     13\u001b[0m     \u001b[0mcount\u001b[0m \u001b[1;33m=\u001b[0m \u001b[1;36m0\u001b[0m\u001b[1;33m\u001b[0m\u001b[0m\n",
      "\u001b[1;31mFileNotFoundError\u001b[0m: [WinError 3] The system cannot find the path specified: 'C:\\\\Users\\\\katha\\\\GalaxyMorphologyOrganic'"
     ]
    }
   ],
   "source": [
    "from os import listdir\n",
    ">>> import h5py\n",
    "import matplotlib\n",
    "import matplotlib.pyplot as plt\n",
    "import matplotlib.gridspec as gridspec\n",
    "\n",
    "datasets = ['Organic', 'gm_late', 'gm_early']\n",
    "\n",
    "for dataset in datasets:\n",
    "    \n",
    "    files = listdir('C:\\\\Users\\\\katha\\\\GalaxyMorphology\\\\' + dataset)\n",
    "\n",
    "    count = 0\n",
    "\n",
    "    for file in files:\n",
    "    #if 1==1:\n",
    "\n",
    "        #file = 'star_particles_015_z002p012.hdf5'\n",
    "        #file = 'star_particles_028_z000p000.hdf5'\n",
    "\n",
    "        f = h5py.File('C:\\\\Users\\\\katha\\\\GalaxyMorphology\\\\' + dataset + '/' + file,'r')\n",
    "\n",
    "        ds_c = f['Coordinates']\n",
    "        print (f)\n",
    "        \n",
    "        \n",
    "\n",
    "        gs = gridspec.GridSpec(2,2)\n",
    "        gs.update(wspace=0, hspace=0)\n",
    "        spec = gridspec.GridSpec(ncols=2, nrows=2)\n",
    "        \n",
    "        fig, ax=plt.subplots()  \n",
    "\n",
    "\n",
    "    ax1 = fig.add_subplot(spec[0, 0])\n",
    "    ax2 = fig.add_subplot(spec[0, 1])\n",
    "    ax3 = fig.add_subplot(spec[1, 0])\n",
    "    ax4 = fig.add_subplot(spec[1, 1])\n",
    "\n",
    "\n",
    "    ax1 = plt.subplot(gs[0])\n",
    "    ax1.scatter('y', 'x', marker='.',s=2, alpha=0.2, color='maroon')\n",
    "    ax1.xaxis.set_visible(False)\n",
    "    ax1.set_ylabel('y (Mpc)', rotation=90, labelpad=15)\n",
    "\n",
    "    ax2 = plt.subplot(gs[1])\n",
    "    ax2.scatter('y', 'z', marker='.',s=2, alpha=0.2, color='blue')\n",
    "    ax2.yaxis.set_visible(False)\n",
    "    ax2.set_xlabel('x (Mpc)', rotation=0)\n",
    "\n",
    "    ax3 = plt.subplot(gs[2])\n",
    "    ax3.scatter('z', 'x',  marker='.', s=2, alpha=0.2, color='darkgreen')\n",
    "    ax3.set_ylabel('z (Mpc)', rotation=90, labelpad=15)\n",
    "    ax3.set_xlabel('x (Mpc)')\n",
    "\n",
    "    ax4 = plt.subplot(gs[3], visible=False)\n",
    "\n",
    "    fig.set_size_inches(18.5, 10.5, forward=True)\n",
    "    fig.suptitle('X, Y, Z coordinates for star_particles_028_z000p000.hdf5', fontsize=16)\n",
    "\n",
    "    plt.show\n",
    "\n",
    "\n",
    "matplotlib.rcParams.update({'figure.max_open_warning': 0})"
   ]
  },
  {
   "cell_type": "code",
   "execution_count": 7,
   "id": "english-agenda",
   "metadata": {},
   "outputs": [
    {
     "data": {
      "text/plain": [
       "'C:\\\\Users\\\\katha\\\\GalaxyMorphology'"
      ]
     },
     "execution_count": 7,
     "metadata": {},
     "output_type": "execute_result"
    }
   ],
   "source": []
  },
  {
   "cell_type": "code",
   "execution_count": null,
   "id": "objective-testimony",
   "metadata": {},
   "outputs": [],
   "source": []
  }
 ],
 "metadata": {
  "kernelspec": {
   "display_name": "Python 3",
   "language": "python",
   "name": "python3"
  },
  "language_info": {
   "codemirror_mode": {
    "name": "ipython",
    "version": 3
   },
   "file_extension": ".py",
   "mimetype": "text/x-python",
   "name": "python",
   "nbconvert_exporter": "python",
   "pygments_lexer": "ipython3",
   "version": "3.6.4"
  }
 },
 "nbformat": 4,
 "nbformat_minor": 5
}
